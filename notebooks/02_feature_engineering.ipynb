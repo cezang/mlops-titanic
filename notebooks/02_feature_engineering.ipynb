{
 "cells": [
  {
   "cell_type": "code",
   "execution_count": 9,
   "metadata": {},
   "outputs": [],
   "source": [
    "import pandas as pd\n",
    "import numpy as np\n",
    "import category_encoders as ce\n",
    "import feature_engine as fe\n",
    "from sklearn.model_selection import train_test_split"
   ]
  },
  {
   "cell_type": "code",
   "execution_count": 10,
   "metadata": {},
   "outputs": [],
   "source": [
    "df = pd.read_csv('../data/titanic.csv')\n",
    "y = df['survived']\n",
    "X = df.drop(columns='survived')"
   ]
  },
  {
   "cell_type": "code",
   "execution_count": 11,
   "metadata": {},
   "outputs": [],
   "source": [
    "X_train, X_test, y_train, y_test = train_test_split(X, y, test_size=0.2, random_state=42)"
   ]
  },
  {
   "cell_type": "markdown",
   "metadata": {},
   "source": [
    "## config"
   ]
  },
  {
   "cell_type": "code",
   "execution_count": null,
   "metadata": {},
   "outputs": [],
   "source": [
    "VAR_TO_EXTRACT_TITLE = ['name']\n",
    "\n",
    "VARS_NA_TO_MEAN = ['age', 'fare']\n",
    "VARS_NA_TO_MFREQ = ['embarked']\n",
    "\n",
    "VARS_TO_DROP = ['body', 'home.dest', 'ticket', 'cabin']\n",
    "\n",
    "SEX_MAPPING = {'male':1, 'female':0}\n",
    "BOAT_MAPPING = {'?':0, 'any':1}\n",
    "\n",
    "\n",
    "VARS_TO_FREQ_ENCODE = ['title', 'embarked', 'cabin']"
   ]
  }
 ],
 "metadata": {
  "kernelspec": {
   "display_name": "mlops-titanic-kkPAbQWR-py3.10",
   "language": "python",
   "name": "python3"
  },
  "language_info": {
   "codemirror_mode": {
    "name": "ipython",
    "version": 3
   },
   "file_extension": ".py",
   "mimetype": "text/x-python",
   "name": "python",
   "nbconvert_exporter": "python",
   "pygments_lexer": "ipython3",
   "version": "3.10.0"
  }
 },
 "nbformat": 4,
 "nbformat_minor": 2
}
