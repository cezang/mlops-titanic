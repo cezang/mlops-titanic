{
 "cells": [
  {
   "cell_type": "code",
   "execution_count": 29,
   "metadata": {},
   "outputs": [],
   "source": [
    "import pandas as pd\n",
    "from preprocessors import TitleExtractor\n",
    "from sklearn.model_selection import train_test_split"
   ]
  },
  {
   "cell_type": "code",
   "execution_count": 30,
   "metadata": {},
   "outputs": [],
   "source": [
    "df = pd.read_csv('../data/titanic.csv')\n",
    "y = df['survived']\n",
    "X = df.drop(columns='survived')"
   ]
  },
  {
   "cell_type": "code",
   "execution_count": 31,
   "metadata": {},
   "outputs": [],
   "source": [
    "X_train, X_test, y_train, y_test = train_test_split(X, y, test_size=0.2, random_state=42)"
   ]
  },
  {
   "cell_type": "markdown",
   "metadata": {},
   "source": [
    "## config"
   ]
  },
  {
   "cell_type": "code",
   "execution_count": 32,
   "metadata": {},
   "outputs": [],
   "source": [
    "VAR_TO_EXTRACT_TITLE = ['name']\n",
    "VAR_NAME_OF_TITLE = ['title']\n",
    "\n",
    "VARS_NA_TO_MEAN = ['age', 'fare']\n",
    "VARS_NA_TO_MFREQ = ['embarked']\n",
    "\n",
    "VARS_TO_DROP = ['body', 'home.dest', 'ticket', 'cabin']\n",
    "\n",
    "SEX_MAPPING = {'male':1, 'female':0}\n",
    "BOAT_MAPPING = {'?':0, 'any':1}\n",
    "\n",
    "\n",
    "VARS_TO_FREQ_ENCODE = ['title', 'embarked', 'cabin']"
   ]
  },
  {
   "cell_type": "code",
   "execution_count": 35,
   "metadata": {},
   "outputs": [
    {
     "ename": "TypeError",
     "evalue": "TitleExtractor.__init__() got an unexpected keyword argument 'list_of_new_col_names'",
     "output_type": "error",
     "traceback": [
      "\u001b[1;31m---------------------------------------------------------------------------\u001b[0m",
      "\u001b[1;31mTypeError\u001b[0m                                 Traceback (most recent call last)",
      "Cell \u001b[1;32mIn[35], line 1\u001b[0m\n\u001b[1;32m----> 1\u001b[0m \u001b[43mTitleExtractor\u001b[49m\u001b[43m(\u001b[49m\u001b[43mvariables\u001b[49m\u001b[38;5;241;43m=\u001b[39;49m\u001b[43mVAR_TO_EXTRACT_TITLE\u001b[49m\u001b[43m,\u001b[49m\u001b[43m \u001b[49m\u001b[43mlist_of_new_col_names\u001b[49m\u001b[38;5;241;43m=\u001b[39;49m\u001b[43mVAR_NAME_OF_TITLE\u001b[49m\u001b[43m)\u001b[49m\n",
      "\u001b[1;31mTypeError\u001b[0m: TitleExtractor.__init__() got an unexpected keyword argument 'list_of_new_col_names'"
     ]
    }
   ],
   "source": [
    "TitleExtractor(variables=VAR_TO_EXTRACT_TITLE, list_of_new_col_names=VAR_NAME_OF_TITLE)"
   ]
  },
  {
   "cell_type": "code",
   "execution_count": 28,
   "metadata": {},
   "outputs": [
    {
     "data": {
      "text/plain": [
       "['name']"
      ]
     },
     "execution_count": 28,
     "metadata": {},
     "output_type": "execute_result"
    }
   ],
   "source": [
    "extracted_title"
   ]
  },
  {
   "cell_type": "code",
   "execution_count": null,
   "metadata": {},
   "outputs": [],
   "source": []
  }
 ],
 "metadata": {
  "kernelspec": {
   "display_name": "mlops-titanic-kkPAbQWR-py3.10",
   "language": "python",
   "name": "python3"
  },
  "language_info": {
   "codemirror_mode": {
    "name": "ipython",
    "version": 3
   },
   "file_extension": ".py",
   "mimetype": "text/x-python",
   "name": "python",
   "nbconvert_exporter": "python",
   "pygments_lexer": "ipython3",
   "version": "3.10.0"
  }
 },
 "nbformat": 4,
 "nbformat_minor": 2
}
